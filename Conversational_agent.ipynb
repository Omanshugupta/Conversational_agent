{
  "nbformat": 4,
  "nbformat_minor": 0,
  "metadata": {
    "colab": {
      "provenance": [],
      "authorship_tag": "ABX9TyPQLMgA7DFzVlvvdzO2M/44",
      "include_colab_link": true
    },
    "kernelspec": {
      "name": "python3",
      "display_name": "Python 3"
    },
    "language_info": {
      "name": "python"
    }
  },
  "cells": [
    {
      "cell_type": "markdown",
      "metadata": {
        "id": "view-in-github",
        "colab_type": "text"
      },
      "source": [
        "<a href=\"https://colab.research.google.com/github/Omanshugupta/Conversational_agent/blob/main/Conversational_agent.ipynb\" target=\"_parent\"><img src=\"https://colab.research.google.com/assets/colab-badge.svg\" alt=\"Open In Colab\"/></a>"
      ]
    },
    {
      "cell_type": "code",
      "execution_count": 10,
      "metadata": {
        "id": "QrKeHTXEFNHV"
      },
      "outputs": [],
      "source": [
        "import google.generativeai as genai\n",
        "from langchain_core.runnables.history import RunnableWithMessageHistory\n",
        "from langchain.memory import ChatMessageHistory\n",
        "from langchain_core.prompts import ChatPromptTemplate, MessagesPlaceholder\n",
        "import os\n",
        "from dotenv import load_dotenv"
      ]
    },
    {
      "cell_type": "code",
      "source": [
        "from google.colab import userdata\n",
        "api_key=userdata.get('gemini_key')"
      ],
      "metadata": {
        "id": "bwUOHXzSGGsJ"
      },
      "execution_count": 11,
      "outputs": []
    },
    {
      "cell_type": "code",
      "source": [
        "genai.configure(api_key=api_key)"
      ],
      "metadata": {
        "id": "MyreYvWSGvO3"
      },
      "execution_count": 12,
      "outputs": []
    },
    {
      "cell_type": "code",
      "source": [
        "load_dotenv()\n",
        "llm = genai.GenerativeModel(model_name=\"gemini-2.0-flash\", generation_config={\"max_output_tokens\": 1000, \"temperature\": 0})"
      ],
      "metadata": {
        "id": "zTmdZnA2G8W1"
      },
      "execution_count": 14,
      "outputs": []
    },
    {
      "cell_type": "code",
      "source": [
        "store = {}\n",
        "\n",
        "def get_chat_history(session_id: str):\n",
        "    if session_id not in store:\n",
        "        store[session_id] = ChatMessageHistory()\n",
        "    return store[session_id]"
      ],
      "metadata": {
        "id": "pblEqUHlJM1g"
      },
      "execution_count": 15,
      "outputs": []
    },
    {
      "cell_type": "code",
      "source": [
        "prompt = ChatPromptTemplate.from_messages([\n",
        "    (\"system\", \"You are a helpful AI assistant.\"),\n",
        "    MessagesPlaceholder(variable_name=\"history\"),\n",
        "    (\"human\", \"{input}\")\n",
        "], input_variables=[\"input\", \"history\"])"
      ],
      "metadata": {
        "id": "ucMj0h-pJYN1"
      },
      "execution_count": 34,
      "outputs": []
    },
    {
      "cell_type": "code",
      "source": [
        "from langchain_core.runnables import Runnable\n",
        "from langchain_core.messages import HumanMessage, AIMessage, SystemMessage\n",
        "from langchain_core.runnables import RunnablePassthrough\n",
        "import google.generativeai as genai\n",
        "\n",
        "class GeminiStreamRunnable(Runnable):\n",
        "    def __init__(self, model):\n",
        "        self.model = model\n",
        "\n",
        "    def stream(self, input, config=None):\n",
        "        # Input is now expected to be a list of messages in the format\n",
        "        # expected by the Gemini API, prepared by a previous step in the chain.\n",
        "        gemini_messages = input\n",
        "\n",
        "        # Call the model's streaming method using generate_content with stream=True\n",
        "        generation_config = config.get(\"generation_config\", {})\n",
        "        safety_settings = config.get(\"safety_settings\", [])\n",
        "\n",
        "        for chunk in self.model.generate_content(\n",
        "            gemini_messages,\n",
        "            stream=True,\n",
        "            generation_config=generation_config,\n",
        "            safety_settings=safety_settings\n",
        "        ):\n",
        "             if chunk.candidates:\n",
        "                 for candidate in chunk.candidates:\n",
        "                     if candidate.content and candidate.content.parts:\n",
        "                         for part in candidate.content.parts:\n",
        "                             if part.text:\n",
        "                                 yield part.text\n",
        "\n",
        "    def invoke(self, input, config=None):\n",
        "        result = \"\"\n",
        "        for chunk in self.stream(input, config):\n",
        "            result += chunk\n",
        "        return result\n",
        "\n",
        "class MessageFormattingRunnable(Runnable):\n",
        "    \"\"\"A runnable to format messages for the Gemini API.\"\"\"\n",
        "    def invoke(self, input_dict, config=None):\n",
        "        \"\"\"Formats the input dictionary with 'input' and 'history' into Gemini's message format.\"\"\"\n",
        "        history = input_dict.get(\"history\", [])\n",
        "        current_input = input_dict.get(\"input\")\n",
        "\n",
        "        gemini_messages = []\n",
        "        for msg in history:\n",
        "            if isinstance(msg, HumanMessage):\n",
        "                gemini_messages.append({'role': 'user', 'parts': [msg.content]})\n",
        "            elif isinstance(msg, AIMessage):\n",
        "                gemini_messages.append({'role': 'model', 'parts': [msg.content]})\n",
        "            elif isinstance(msg, SystemMessage):\n",
        "                 print(f\"Warning: Skipping SystemMessage in chat history.\")\n",
        "                 continue\n",
        "            else:\n",
        "                print(f\"Warning: Skipping unsupported message type in history: {type(msg)}\")\n",
        "                continue\n",
        "\n",
        "        if current_input is not None:\n",
        "             if isinstance(current_input, str):\n",
        "                 gemini_messages.append({'role': 'user', 'parts': [current_input]})\n",
        "             elif isinstance(current_input, list):\n",
        "                  gemini_messages.append({'role': 'user', 'parts': current_input})\n",
        "\n",
        "        return gemini_messages\n",
        "\n",
        "# Define the chain:\n",
        "# 1. Receive the input dictionary with 'input' and 'history' (handled by RunnableWithMessageHistory)\n",
        "# 2. Format the messages for Gemini using MessageFormattingRunnable\n",
        "# 3. Pass the formatted messages to the GeminiStreamRunnable\n",
        "chain = MessageFormattingRunnable() | GeminiStreamRunnable(llm)"
      ],
      "metadata": {
        "id": "okmS30g-JbfC"
      },
      "execution_count": 53,
      "outputs": []
    },
    {
      "cell_type": "code",
      "source": [
        "\n",
        "chain_with_history = RunnableWithMessageHistory(\n",
        "    chain,\n",
        "    get_chat_history,\n",
        "    input_messages_key=\"input\",\n",
        "    history_messages_key=\"history\"\n",
        ")"
      ],
      "metadata": {
        "id": "92R74pIRJdXQ"
      },
      "execution_count": 52,
      "outputs": []
    },
    {
      "cell_type": "code",
      "source": [
        "session_id = \"user_123\"\n",
        "\n",
        "\n",
        "response1 = chain_with_history.invoke(\n",
        "    {\"input\": \"Hello! How are you?\"},\n",
        "    config={\"configurable\": {\"session_id\": session_id}}\n",
        ")\n",
        "print(\"AI:\", response1)\n",
        "\n",
        "response2 = chain_with_history.invoke(\n",
        "    {\"input\": \"What was my previous message?\"},\n",
        "    config={\"configurable\": {\"session_id\": session_id}}\n",
        ")\n",
        "print(\"AI:\", response2)"
      ],
      "metadata": {
        "colab": {
          "base_uri": "https://localhost:8080/",
          "height": 86
        },
        "id": "WGanl7EJKB4b",
        "outputId": "3312c924-b11e-4395-d2ab-466081145023"
      },
      "execution_count": 57,
      "outputs": [
        {
          "output_type": "stream",
          "name": "stdout",
          "text": [
            "AI: I'm doing well, thank you for asking! How can I help you today?\n",
            "\n",
            "AI: Your previous message was: \"Hello! How are you?\"\n",
            "\n"
          ]
        }
      ]
    },
    {
      "cell_type": "code",
      "source": [
        "\n",
        "print(\"\\nConversation History:\")\n",
        "for message in store[session_id].messages:\n",
        "    print(f\"{message.type}: {message.content}\")"
      ],
      "metadata": {
        "colab": {
          "base_uri": "https://localhost:8080/"
        },
        "id": "1UMalvVAKE7E",
        "outputId": "999332e8-579c-4be4-eca6-645467f89629"
      },
      "execution_count": 58,
      "outputs": [
        {
          "output_type": "stream",
          "name": "stdout",
          "text": [
            "\n",
            "Conversation History:\n",
            "human: Hello! How are you?\n",
            "ai: I am doing well, thank you for asking! As a large language model, I don't experience emotions or feelings like humans do, but I am functioning optimally and ready to assist you. How can I help you today?\n",
            "\n",
            "human: What was my previous message?\n",
            "ai: Your previous message was: \"Hello! How are you?\"\n",
            "\n",
            "human: Hello! How are you?\n",
            "ai: I am doing well, thank you for asking! How can I help you today?\n",
            "\n",
            "human: What was my previous message?\n",
            "ai: Your previous message was: \"Hello! How are you?\"\n",
            "\n",
            "human: Hello! How are you?\n",
            "ai: I'm doing well, thank you for asking! How can I help you today?\n",
            "\n",
            "human: What was my previous message?\n",
            "ai: Your previous message was: \"Hello! How are you?\"\n",
            "\n"
          ]
        }
      ]
    },
    {
      "cell_type": "code",
      "source": [],
      "metadata": {
        "id": "GhaWUF4EQelz"
      },
      "execution_count": null,
      "outputs": []
    }
  ]
}